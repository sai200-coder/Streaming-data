{
 "cells": [
  {
   "cell_type": "code",
   "execution_count": 0,
   "metadata": {
    "application/vnd.databricks.v1+cell": {
     "cellMetadata": {
      "byteLimit": 2048000,
      "rowLimit": 10000
     },
     "inputWidgets": {},
     "nuid": "401c9ad5-1023-443b-ada4-898dea60d8ba",
     "showTitle": false,
     "tableResultSettingsMap": {
      "0": {
       "dataGridStateBlob": "{\"version\":1,\"tableState\":{\"columnPinning\":{\"left\":[\"#row_number#\"],\"right\":[]},\"columnSizing\":{},\"columnVisibility\":{}},\"settings\":{\"columns\":{}},\"syncTimestamp\":1761715135842}",
       "filterBlob": null,
       "queryPlanFiltersBlob": null,
       "tableResultIndex": 0
      }
     },
     "title": ""
    }
   },
   "outputs": [],
   "source": [
    "df_customer = spark.read.format(\"delta\").table(\"stream1.stream1.customers_bronze\")\n",
    "df_customers = df_customer.dropDuplicates([\"customer_id\"]).drop(\"source_file\", \"ingestion_time\").withColumn(\n",
    "    \"full_name\", F.concat_ws(\" \", F.col(\"first_name\"), F.col(\"last_name\"))\n",
    ")\n",
    "df_customers.dropna()\n",
    "display(df_customers)\n",
    "df_customers.printSchema()"
   ]
  },
  {
   "cell_type": "code",
   "execution_count": 0,
   "metadata": {
    "application/vnd.databricks.v1+cell": {
     "cellMetadata": {
      "byteLimit": 2048000,
      "rowLimit": 10000
     },
     "inputWidgets": {},
     "nuid": "9559d6ed-59e8-40a6-b24f-ee2aea22299b",
     "showTitle": false,
     "tableResultSettingsMap": {
      "0": {
       "dataGridStateBlob": "{\"version\":1,\"tableState\":{\"columnPinning\":{\"left\":[\"#row_number#\"],\"right\":[]},\"columnSizing\":{\"order_id\":115},\"columnVisibility\":{}},\"settings\":{\"columns\":{}},\"syncTimestamp\":1761715518680}",
       "filterBlob": null,
       "queryPlanFiltersBlob": null,
       "tableResultIndex": 0
      }
     },
     "title": ""
    }
   },
   "outputs": [],
   "source": [
    "df_order = spark.read.format(\"delta\").table(\"stream1.stream1.orders_bronze\")\n",
    "df_orders = df_order.dropDuplicates([\"order_id\"]).drop(\"source_file\", \"ingestion_time\").dropna(subset=[\"order_id\", \"wallet_id\"])\n",
    "display(df_orders)\n",
    "df_orders.printSchema()"
   ]
  },
  {
   "cell_type": "code",
   "execution_count": 0,
   "metadata": {
    "application/vnd.databricks.v1+cell": {
     "cellMetadata": {
      "byteLimit": 2048000,
      "rowLimit": 10000
     },
     "inputWidgets": {},
     "nuid": "df1ac836-c1fe-41c3-9ba8-518c427eddc2",
     "showTitle": false,
     "tableResultSettingsMap": {
      "0": {
       "dataGridStateBlob": "{\"version\":1,\"tableState\":{\"columnPinning\":{\"left\":[\"#row_number#\"],\"right\":[]},\"columnSizing\":{},\"columnVisibility\":{}},\"settings\":{\"columns\":{}},\"syncTimestamp\":1761718227883}",
       "filterBlob": null,
       "queryPlanFiltersBlob": null,
       "tableResultIndex": 0
      }
     },
     "title": ""
    }
   },
   "outputs": [],
   "source": [
    "df_price = spark.read.format(\"delta\").table(\"stream1.stream1.prices_bronze\")\n",
    "df_price = df_price.dropDuplicates([\"price_id\", \"trade_id\"]).select(\"asset_name\", \"price_id\", \"price_value\", \"timestamp\", \"trade_id\")\n",
    "display(df_price)\n",
    "df_price.printSchema()\n"
   ]
  },
  {
   "cell_type": "code",
   "execution_count": 0,
   "metadata": {
    "application/vnd.databricks.v1+cell": {
     "cellMetadata": {
      "byteLimit": 2048000,
      "rowLimit": 10000
     },
     "inputWidgets": {},
     "nuid": "b1557403-d559-487c-b216-e47f0af8865f",
     "showTitle": false,
     "tableResultSettingsMap": {
      "0": {
       "dataGridStateBlob": "{\"version\":1,\"tableState\":{\"columnPinning\":{\"left\":[\"#row_number#\"],\"right\":[]},\"columnSizing\":{},\"columnVisibility\":{}},\"settings\":{\"columns\":{}},\"syncTimestamp\":1761718341507}",
       "filterBlob": null,
       "queryPlanFiltersBlob": null,
       "tableResultIndex": 0
      }
     },
     "title": ""
    }
   },
   "outputs": [],
   "source": [
    "df_1 = (\n",
    "    spark.read.format(\"delta\").table(\"stream1.stream1.trades_bronze\")\n",
    "    .dropDuplicates([\"order_id\", \"trade_id\"])\n",
    "    .drop(\"source_file\", \"ingestion_time\")\n",
    ")\n",
    "display(df_1)\n",
    "df_1.printSchema()"
   ]
  },
  {
   "cell_type": "code",
   "execution_count": 0,
   "metadata": {
    "application/vnd.databricks.v1+cell": {
     "cellMetadata": {
      "byteLimit": 2048000,
      "rowLimit": 10000
     },
     "inputWidgets": {},
     "nuid": "dc50bf70-26b3-4e92-92b0-33d6ed12c81d",
     "showTitle": false,
     "tableResultSettingsMap": {
      "0": {
       "dataGridStateBlob": "{\"version\":1,\"tableState\":{\"columnPinning\":{\"left\":[\"#row_number#\"],\"right\":[]},\"columnSizing\":{},\"columnVisibility\":{}},\"settings\":{\"columns\":{}},\"syncTimestamp\":1761716164414}",
       "filterBlob": null,
       "queryPlanFiltersBlob": null,
       "tableResultIndex": 0
      }
     },
     "title": ""
    }
   },
   "outputs": [],
   "source": [
    "df_wallets = (\n",
    "    spark.read.format(\"delta\").table(\"stream1.stream1.wallets_bronze\")\n",
    "    .dropDuplicates([\"wallet_id\"])\n",
    "    .dropna(subset=[\"wallet_id\", \"customer_id\"])\n",
    "    .drop(\"ingestion_time\", \"source_file\")\n",
    ")\n",
    "display(df_wallets)\n",
    "df_wallets.printSchema()\n"
   ]
  },
  {
   "cell_type": "code",
   "execution_count": 0,
   "metadata": {
    "application/vnd.databricks.v1+cell": {
     "cellMetadata": {
      "byteLimit": 2048000,
      "rowLimit": 10000
     },
     "inputWidgets": {},
     "nuid": "44ea5015-15d2-489e-b66b-a93ff7bf3963",
     "showTitle": false,
     "tableResultSettingsMap": {},
     "title": ""
    }
   },
   "outputs": [],
   "source": [
    "df_customers.write.format(\"delta\").mode(\"overwrite\").option(\"overwriteSchema\", \"true\").saveAsTable(\"stream1.stream1.customers_silver\")\n",
    "df_wallets.write.format(\"delta\").mode(\"overwrite\").option(\"overwriteSchema\", \"true\").saveAsTable(\"stream1.stream1.wallets_silver\")\n",
    "df_orders.write.format(\"delta\").mode(\"overwrite\").option(\"overwriteSchema\", \"true\").saveAsTable(\"stream1.stream1.orders_silver\")\n",
    "df_1.write.format(\"delta\").mode(\"overwrite\").option(\"overwriteSchema\", \"true\").saveAsTable(\"stream1.stream1.trades_silver\")\n",
    "df_price.write.format(\"delta\").mode(\"overwrite\").option(\"overwriteSchema\", \"true\").saveAsTable(\"stream1.stream1.prices_silver\")"
   ]
  },
  {
   "cell_type": "markdown",
   "metadata": {
    "application/vnd.databricks.v1+cell": {
     "cellMetadata": {},
     "inputWidgets": {},
     "nuid": "4483cb95-5cb9-438c-bdb1-f92bbb135ddf",
     "showTitle": true,
     "tableResultSettingsMap": {},
     "title": ""
    }
   },
   "source": [
    "test"
   ]
  },
  {
   "cell_type": "code",
   "execution_count": 0,
   "metadata": {
    "application/vnd.databricks.v1+cell": {
     "cellMetadata": {
      "byteLimit": 2048000,
      "rowLimit": 10000
     },
     "inputWidgets": {},
     "nuid": "3729c254-fd27-4c8b-b0e1-45c0ec543977",
     "showTitle": false,
     "tableResultSettingsMap": {},
     "title": ""
    }
   },
   "outputs": [],
   "source": [
    "customers_silver = spark.read.format(\"delta\").table(\"stream1.stream1.customers_silver\")\n",
    "wallets_silver = spark.read.format(\"delta\").table(\"stream1.stream1.wallets_silver\")\n",
    "orders_silver = spark.read.format(\"delta\").table(\"stream1.stream1.orders_silver\")\n",
    "trades_silver = spark.read.format(\"delta\").table(\"stream1.stream1.trades_silver\")\n",
    "prices_silver = spark.read.format(\"delta\").table(\"stream1.stream1.prices_silver\")"
   ]
  },
  {
   "cell_type": "code",
   "execution_count": 0,
   "metadata": {
    "application/vnd.databricks.v1+cell": {
     "cellMetadata": {
      "byteLimit": 2048000,
      "rowLimit": 10000
     },
     "inputWidgets": {},
     "nuid": "73cbece3-e6be-456f-ab6e-da379cc1a59d",
     "showTitle": false,
     "tableResultSettingsMap": {
      "0": {
       "dataGridStateBlob": "{\"version\":1,\"tableState\":{\"columnPinning\":{\"left\":[\"#row_number#\"],\"right\":[]},\"columnSizing\":{},\"columnVisibility\":{}},\"settings\":{\"columns\":{}},\"syncTimestamp\":1761720074313}",
       "filterBlob": null,
       "queryPlanFiltersBlob": null,
       "tableResultIndex": 0
      }
     },
     "title": ""
    }
   },
   "outputs": [],
   "source": [
    "gold_base = (\n",
    "    customers_silver.alias(\"c\")\n",
    "    .join(wallets_silver.alias(\"w\"), F.col(\"c.customer_id\") == F.col(\"w.customer_id\"), \"inner\")\n",
    "    .join(orders_silver.alias(\"o\"), F.col(\"w.wallet_id\") == F.col(\"o.wallet_id\"), \"inner\")\n",
    "    .join(trades_silver.alias(\"t\"), F.col(\"o.order_id\") == F.col(\"t.order_id\"), \"inner\")\n",
    "    .join(prices_silver.alias(\"p\"), F.col(\"t.trade_id\") == F.col(\"p.trade_id\"), \"inner\")\n",
    "    .select(\n",
    "        F.col(\"c.customer_id\"),\n",
    "        F.col(\"c.full_name\"),\n",
    "        F.col(\"c.email\"),\n",
    "        F.col(\"c.phone\"),\n",
    "        F.col(\"c.address\"),\n",
    "        F.col(\"c.kyc_type\"),\n",
    "        F.col(\"c.kyc_details\"),\n",
    "        F.col(\"w.wallet_id\"),\n",
    "        F.col(\"w.currency\"),\n",
    "        F.col(\"w.wallet_balance\").cast(\"double\").alias(\"wallet_balance\"),\n",
    "        F.col(\"o.order_id\"),\n",
    "        F.col(\"o.order_type\"),\n",
    "        F.col(\"o.asset\"),\n",
    "        F.col(\"o.price\").cast(\"double\").alias(\"order_price\"),\n",
    "        F.col(\"o.quantity\").cast(\"double\").alias(\"order_quantity\"),\n",
    "        F.col(\"o.order_status\"),\n",
    "        F.col(\"t.trade_id\"),\n",
    "        F.col(\"t.trade_type\"),\n",
    "        F.col(\"t.trade_value\").cast(\"double\").alias(\"trade_value\"),\n",
    "        F.col(\"t.trade_fee\").cast(\"double\").alias(\"trade_fee\"),\n",
    "        F.col(\"t.trade_date\"),\n",
    "        F.col(\"p.asset_name\"),\n",
    "        F.col(\"p.price_value\").cast(\"double\").alias(\"price_value\"),\n",
    "        F.col(\"p.timestamp\").alias(\"price_timestamp\")\n",
    "    )\n",
    ")\n",
    "display(gold_base)\n",
    "gold_base.write.format(\"delta\").mode(\"overwrite\").option(\"overwriteSchema\", \"true\").saveAsTable(\"stream1.stream1.base_for_gold\")"
   ]
  },
  {
   "cell_type": "code",
   "execution_count": 0,
   "metadata": {
    "application/vnd.databricks.v1+cell": {
     "cellMetadata": {
      "byteLimit": 2048000,
      "rowLimit": 10000
     },
     "inputWidgets": {},
     "nuid": "a6dbbbfb-6f05-4e72-b3aa-7953b9ef7f2e",
     "showTitle": false,
     "tableResultSettingsMap": {},
     "title": ""
    }
   },
   "outputs": [],
   "source": [
    "from pyspark.sql import functions as F\n",
    "\n",
    "# CUSTOMERS\n",
    "df_customers0 = (\n",
    "    spark.read.format(\"delta\").table(\"stream1.stream1.customers_bronze\")\n",
    "    .dropDuplicates([\"customer_id\"])\n",
    "    .dropna(subset=[\"customer_id\"])\n",
    "    .withColumn(\"full_name\", F.concat_ws(\" \", \"first_name\", \"last_name\"))\n",
    "    .withColumn(\"created_at\", F.to_timestamp(\"created_at\"))\n",
    ")\n",
    "\n",
    "# WALLETS\n",
    "df_wallets0 = (\n",
    "    spark.read.format(\"delta\").table(\"stream1.stream1.wallets_bronze\")\n",
    "    .dropDuplicates([\"wallet_id\"])\n",
    "    .dropna(subset=[\"wallet_id\", \"customer_id\"])\n",
    "    .withColumn(\"created_at\", F.to_timestamp(\"created_at\"))\n",
    ")\n",
    "\n",
    "# ORDERS\n",
    "df_orders0 = (\n",
    "    spark.read.format(\"delta\").table(\"stream1.stream1.orders_bronze\")\n",
    "    .dropDuplicates([\"order_id\"])\n",
    "    .dropna(subset=[\"order_id\", \"wallet_id\"])\n",
    "    .withColumn(\"created_at\", F.to_timestamp(\"created_at\"))\n",
    "    .withColumn(\"updated_at\", F.to_timestamp(\"updated_at\"))\n",
    ")\n",
    "\n",
    "# TRADES\n",
    "df_trades0 = (\n",
    "    spark.read.format(\"delta\").table(\"stream1.stream1.trades_bronze\")\n",
    "    .dropDuplicates([\"trade_id\"])\n",
    "    .dropna(subset=[\"trade_id\", \"order_id\"])\n",
    "    .withColumn(\"trade_date\", F.to_timestamp(\"trade_date\"))\n",
    ")\n",
    "\n",
    "# PRICES\n",
    "df_prices0 = (\n",
    "    spark.read.format(\"delta\").table(\"stream1.stream1.prices_bronze\")\n",
    "    .dropDuplicates([\"price_id\"])\n",
    "    .dropna(subset=[\"price_id\", \"trade_id\"])\n",
    "    .withColumn(\"timestamp\", F.to_timestamp(\"timestamp\"))\n",
    ")\n",
    "display(df_customers0)\n",
    "display(df_wallets0)\n",
    "display(df_orders0)\n",
    "display(df_trades0)\n",
    "display(df_prices0)"
   ]
  },
  {
   "cell_type": "code",
   "execution_count": 0,
   "metadata": {
    "application/vnd.databricks.v1+cell": {
     "cellMetadata": {},
     "inputWidgets": {},
     "nuid": "bd6b9507-37f7-4048-b8b8-58aa9a512d39",
     "showTitle": false,
     "tableResultSettingsMap": {},
     "title": ""
    }
   },
   "outputs": [],
   "source": []
  }
 ],
 "metadata": {
  "application/vnd.databricks.v1+notebook": {
   "computePreferences": null,
   "dashboards": [],
   "environmentMetadata": {
    "base_environment": "",
    "environment_version": "4"
   },
   "inputWidgetPreferences": null,
   "language": "python",
   "notebookMetadata": {
    "pythonIndentUnit": 4
   },
   "notebookName": "sliver",
   "widgets": {}
  },
  "language_info": {
   "name": "python"
  }
 },
 "nbformat": 4,
 "nbformat_minor": 0
}
